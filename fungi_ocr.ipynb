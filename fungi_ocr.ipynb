{
 "cells": [
  {
   "cell_type": "code",
   "execution_count": null,
   "metadata": {},
   "outputs": [
    {
     "name": "stdout",
     "output_type": "stream",
     "text": [
      "Successfully saved Excel file to: sample_images\\sample_images.xlsx\n"
     ]
    }
   ],
   "source": [
    "from pydantic import BaseModel\n",
    "from fungarium_ocr.core import FungariumOCR\n",
    "\n",
    "input_dir = 'sample_images'\n",
    "\n",
    "vsion_model = 'gpt-4o'\n",
    "\n",
    "system_prompt = \"\"\"\n",
    "        The goal is to extract structured text from Fungi sample images. The rules are:\n",
    "        1. Each image contains two sections of text chunks. One is the bar code, and the other is the sample information.\n",
    "        \n",
    "        2. The languages are only in English or German.\n",
    "        \n",
    "        3. The bar code chunk starts with 'Herbarium der ETH Zurich (ZT)' followed by a barcode with text such as 'ZT Myc 0105537'. The task here is to extract the barcode text.\n",
    "        \n",
    "        4. The sample information chunk starts with a division separator, such as 'Dr. F. Petrak, Mycotheca generalis.'\n",
    "        This will become the value for the 'division' column. After the division separator, there are other structures defined by the following:\n",
    "        \n",
    "        5. Exicata Number and Species: Lines. For example, '204. Acetabula vulgaris Fuck', contains two pieces of information: * Exicata number → the number before the period (e.g., 204) * Species name → everything after the period (e.g., Acetabula vulgaris Fuck.) \n",
    "        \n",
    "        6. Matrix and Locality: A line that holds the information (e.g., Ungarn; Comit. Gyor: Bonyretalap). If a sample is missing a Matrix and Locality line, leave it blank. Extract as it is, no more added information\n",
    "        \n",
    "        7. Date: A line that has a Roman numeral month plus year (e.g., V.1920, X.1924, XII.1924), from which you split out: * Month → Roman numeral (e.g., V, X, XII) * Year → numeric year (e.g., 1920, 1924). Note, sometimes the month can be a normal English month with abbreviations\n",
    "        \n",
    "        8. Collector: A line beginning with 'leg.' indicates the collector (e.g., leg. J. Cogolludo.)\n",
    "\n",
    "        9. Image name: I will define later\n",
    "        \n",
    "        The output should be a JSON like structured dictionary with keys (image_name, barcode, division, exicata_number, species, matrix_locality, date, collector) \n",
    "        Remove unnecessary '\\n' etc. Dont output anything else.\n",
    "        \"\"\"\n",
    "\n",
    "user_prompt = 'Directly extract information with your own vision capabilities, not Python packages such as pytesseract'\n",
    "\n",
    "openai_apikey = 'Input your own API keys here'\n",
    "\n",
    "class OutputFormat(BaseModel):\n",
    "    image_name: str\n",
    "    barcode: str\n",
    "    division: str\n",
    "    exicata_number: str\n",
    "    species: str\n",
    "    matrix_locality: str\n",
    "    date: str\n",
    "    collector: str\n",
    "\n",
    "FungariumOCR(openai_apikey=openai_apikey).batch_ocr(input_dir, vsion_model=vsion_model, system_prompt=system_prompt, user_prompt=user_prompt, response_format=OutputFormat)"
   ]
  }
 ],
 "metadata": {
  "accelerator": "GPU",
  "colab": {
   "collapsed_sections": [
    "J2OtvBLRa2D3",
    "H0sxjxbvfWMb",
    "nyr4y8aiw4oK",
    "egEeiRr9uAj8",
    "833D0mbi-Mqz",
    "gEptYWuD8qjq",
    "gz5wcgGScwPi",
    "77_vyR9TC4p-",
    "sbFmyqnaiSaj",
    "gd9k1MHvooJ5"
   ],
   "gpuClass": "premium",
   "gpuType": "A100",
   "machine_shape": "hm",
   "provenance": []
  },
  "gpuClass": "premium",
  "kernelspec": {
   "display_name": "fungi",
   "language": "python",
   "name": "python3"
  },
  "language_info": {
   "codemirror_mode": {
    "name": "ipython",
    "version": 3
   },
   "file_extension": ".py",
   "mimetype": "text/x-python",
   "name": "python",
   "nbconvert_exporter": "python",
   "pygments_lexer": "ipython3",
   "version": "3.10.16"
  }
 },
 "nbformat": 4,
 "nbformat_minor": 0
}
